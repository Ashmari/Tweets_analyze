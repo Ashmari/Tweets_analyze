{
 "cells": [
  {
   "cell_type": "code",
   "execution_count": 1,
   "metadata": {},
   "outputs": [],
   "source": [
    "# Import libraries\n",
    "import pandas as pd\n",
    "import numpy as np\n",
    "import seaborn as sns\n",
    "import matplotlib.pyplot as plt\n",
    "from sklearn.feature_extraction.text import CountVectorizer\n",
    "import nltk \n",
    "import string\n",
    "import re\n",
    "%matplotlib inline\n",
    "pd.set_option('display.max_colwidth', 100)"
   ]
  },
  {
   "cell_type": "code",
   "execution_count": 58,
   "metadata": {},
   "outputs": [],
   "source": [
    "# Load dataset\n",
    "def load_data():\n",
    "    data = pd.read_excel('C:/Users/steph/Desktop/Coursework/Tweets/Tweets_analyze/Data/translated.xlsx',dtype=str)\n",
    "    return data"
   ]
  },
  {
   "cell_type": "code",
   "execution_count": 59,
   "metadata": {},
   "outputs": [
    {
     "data": {
      "text/html": [
       "<div>\n",
       "<style scoped>\n",
       "    .dataframe tbody tr th:only-of-type {\n",
       "        vertical-align: middle;\n",
       "    }\n",
       "\n",
       "    .dataframe tbody tr th {\n",
       "        vertical-align: top;\n",
       "    }\n",
       "\n",
       "    .dataframe thead th {\n",
       "        text-align: right;\n",
       "    }\n",
       "</style>\n",
       "<table border=\"1\" class=\"dataframe\">\n",
       "  <thead>\n",
       "    <tr style=\"text-align: right;\">\n",
       "      <th></th>\n",
       "      <th>translated</th>\n",
       "    </tr>\n",
       "  </thead>\n",
       "  <tbody>\n",
       "    <tr>\n",
       "      <th>0</th>\n",
       "      <td>Now in Roppongi (*･ω･)ﾉ with Sun-chan and Chie ☆ [USER] [USER]</td>\n",
       "    </tr>\n",
       "    <tr>\n",
       "      <th>1</th>\n",
       "      <td>[ASSISTANT] I was in a bad state from the beginning and relied on Non-chan for everything!! Non-...</td>\n",
       "    </tr>\n",
       "    <tr>\n",
       "      <th>2</th>\n",
       "      <td>[USER], my main yoyos are mostly the Phenom Proto, Genesis +, Loop900, and so on... [URL]</td>\n",
       "    </tr>\n",
       "    <tr>\n",
       "      <th>3</th>\n",
       "      <td>I'm going with my daughter to the Minato Mirai Hall for the \"Musical Instrument Knowledge Concer...</td>\n",
       "    </tr>\n",
       "    <tr>\n",
       "      <th>4</th>\n",
       "      <td>Otsuka is so gross (lol). Always begging for food (&gt;_&lt;). Truly a fatty.</td>\n",
       "    </tr>\n",
       "  </tbody>\n",
       "</table>\n",
       "</div>"
      ],
      "text/plain": [
       "                                                                                            translated\n",
       "0                                       Now in Roppongi (*･ω･)ﾉ with Sun-chan and Chie ☆ [USER] [USER]\n",
       "1  [ASSISTANT] I was in a bad state from the beginning and relied on Non-chan for everything!! Non-...\n",
       "2            [USER], my main yoyos are mostly the Phenom Proto, Genesis +, Loop900, and so on... [URL]\n",
       "3  I'm going with my daughter to the Minato Mirai Hall for the \"Musical Instrument Knowledge Concer...\n",
       "4                              Otsuka is so gross (lol). Always begging for food (>_<). Truly a fatty."
      ]
     },
     "execution_count": 59,
     "metadata": {},
     "output_type": "execute_result"
    }
   ],
   "source": [
    "tweet_df = load_data()\n",
    "tweet_df.head()"
   ]
  },
  {
   "cell_type": "code",
   "execution_count": 60,
   "metadata": {},
   "outputs": [
    {
     "name": "stdout",
     "output_type": "stream",
     "text": [
      "Dataset size: (10000, 1)\n"
     ]
    }
   ],
   "source": [
    "print('Dataset size:',tweet_df.shape)"
   ]
  },
  {
   "cell_type": "code",
   "execution_count": 61,
   "metadata": {},
   "outputs": [
    {
     "name": "stdout",
     "output_type": "stream",
     "text": [
      "Columns are: Index(['translated'], dtype='object')\n"
     ]
    }
   ],
   "source": [
    "print('Columns are:',tweet_df.columns)"
   ]
  },
  {
   "cell_type": "code",
   "execution_count": 62,
   "metadata": {},
   "outputs": [
    {
     "name": "stdout",
     "output_type": "stream",
     "text": [
      "<class 'pandas.core.frame.DataFrame'>\n",
      "RangeIndex: 10000 entries, 0 to 9999\n",
      "Data columns (total 1 columns):\n",
      " #   Column      Non-Null Count  Dtype \n",
      "---  ------      --------------  ----- \n",
      " 0   translated  9994 non-null   object\n",
      "dtypes: object(1)\n",
      "memory usage: 78.2+ KB\n"
     ]
    }
   ],
   "source": [
    "tweet_df.info()\n"
   ]
  },
  {
   "cell_type": "code",
   "execution_count": 63,
   "metadata": {},
   "outputs": [
    {
     "data": {
      "text/html": [
       "<div>\n",
       "<style scoped>\n",
       "    .dataframe tbody tr th:only-of-type {\n",
       "        vertical-align: middle;\n",
       "    }\n",
       "\n",
       "    .dataframe tbody tr th {\n",
       "        vertical-align: top;\n",
       "    }\n",
       "\n",
       "    .dataframe thead th {\n",
       "        text-align: right;\n",
       "    }\n",
       "</style>\n",
       "<table border=\"1\" class=\"dataframe\">\n",
       "  <thead>\n",
       "    <tr style=\"text-align: right;\">\n",
       "      <th></th>\n",
       "      <th>translated</th>\n",
       "    </tr>\n",
       "  </thead>\n",
       "  <tbody>\n",
       "    <tr>\n",
       "      <th>0</th>\n",
       "      <td>Now in Roppongi (*･ω･)ﾉ with Sun-chan and Chie ☆ [USER] [USER]</td>\n",
       "    </tr>\n",
       "    <tr>\n",
       "      <th>1</th>\n",
       "      <td>[ASSISTANT] I was in a bad state from the beginning and relied on Non-chan for everything!! Non-...</td>\n",
       "    </tr>\n",
       "    <tr>\n",
       "      <th>2</th>\n",
       "      <td>[USER], my main yoyos are mostly the Phenom Proto, Genesis +, Loop900, and so on... [URL]</td>\n",
       "    </tr>\n",
       "    <tr>\n",
       "      <th>3</th>\n",
       "      <td>I'm going with my daughter to the Minato Mirai Hall for the \"Musical Instrument Knowledge Concer...</td>\n",
       "    </tr>\n",
       "    <tr>\n",
       "      <th>4</th>\n",
       "      <td>Otsuka is so gross (lol). Always begging for food (&gt;_&lt;). Truly a fatty.</td>\n",
       "    </tr>\n",
       "    <tr>\n",
       "      <th>...</th>\n",
       "      <td>...</td>\n",
       "    </tr>\n",
       "    <tr>\n",
       "      <th>9995</th>\n",
       "      <td>Please tell me your email address! I am Takumi Sakuhō from Kōryō Junior High School! (^^) My ema...</td>\n",
       "    </tr>\n",
       "    <tr>\n",
       "      <th>9996</th>\n",
       "      <td>Did the joke go too far? (￣▽￣;) I'm sorry! If it were actually open, I would have told you prope...</td>\n",
       "    </tr>\n",
       "    <tr>\n",
       "      <th>9997</th>\n",
       "      <td>Fill your stomach and head to Kagoshima. Today is a dining party. I don't want to go straight ho...</td>\n",
       "    </tr>\n",
       "    <tr>\n",
       "      <th>9998</th>\n",
       "      <td>[USER] [USER] [USER], goodnight. &gt;&lt;</td>\n",
       "    </tr>\n",
       "    <tr>\n",
       "      <th>9999</th>\n",
       "      <td>[USER] Long time no see, how have you been? I found you. I cannot let you get away without a gre...</td>\n",
       "    </tr>\n",
       "  </tbody>\n",
       "</table>\n",
       "<p>10000 rows × 1 columns</p>\n",
       "</div>"
      ],
      "text/plain": [
       "                                                                                               translated\n",
       "0                                          Now in Roppongi (*･ω･)ﾉ with Sun-chan and Chie ☆ [USER] [USER]\n",
       "1     [ASSISTANT] I was in a bad state from the beginning and relied on Non-chan for everything!! Non-...\n",
       "2               [USER], my main yoyos are mostly the Phenom Proto, Genesis +, Loop900, and so on... [URL]\n",
       "3     I'm going with my daughter to the Minato Mirai Hall for the \"Musical Instrument Knowledge Concer...\n",
       "4                                 Otsuka is so gross (lol). Always begging for food (>_<). Truly a fatty.\n",
       "...                                                                                                   ...\n",
       "9995  Please tell me your email address! I am Takumi Sakuhō from Kōryō Junior High School! (^^) My ema...\n",
       "9996  Did the joke go too far? (￣▽￣;) I'm sorry! If it were actually open, I would have told you prope...\n",
       "9997  Fill your stomach and head to Kagoshima. Today is a dining party. I don't want to go straight ho...\n",
       "9998                                                                  [USER] [USER] [USER], goodnight. ><\n",
       "9999  [USER] Long time no see, how have you been? I found you. I cannot let you get away without a gre...\n",
       "\n",
       "[10000 rows x 1 columns]"
      ]
     },
     "execution_count": 63,
     "metadata": {},
     "output_type": "execute_result"
    }
   ],
   "source": [
    "df  = pd.DataFrame(tweet_df[['translated']])\n",
    "df"
   ]
  },
  {
   "cell_type": "code",
   "execution_count": 64,
   "metadata": {},
   "outputs": [
    {
     "data": {
      "text/plain": [
       "'!\"#$%&\\'()*+,-./:;<=>?@[\\\\]^_`{|}~'"
      ]
     },
     "execution_count": 64,
     "metadata": {},
     "output_type": "execute_result"
    }
   ],
   "source": [
    "string.punctuation\n"
   ]
  },
  {
   "cell_type": "code",
   "execution_count": 74,
   "metadata": {},
   "outputs": [
    {
     "name": "stdout",
     "output_type": "stream",
     "text": [
      "\n",
      "translated    object\n",
      "dtype: object\n"
     ]
    },
    {
     "data": {
      "text/html": [
       "<div>\n",
       "<style scoped>\n",
       "    .dataframe tbody tr th:only-of-type {\n",
       "        vertical-align: middle;\n",
       "    }\n",
       "\n",
       "    .dataframe tbody tr th {\n",
       "        vertical-align: top;\n",
       "    }\n",
       "\n",
       "    .dataframe thead th {\n",
       "        text-align: right;\n",
       "    }\n",
       "</style>\n",
       "<table border=\"1\" class=\"dataframe\">\n",
       "  <thead>\n",
       "    <tr style=\"text-align: right;\">\n",
       "      <th></th>\n",
       "      <th>translated</th>\n",
       "    </tr>\n",
       "  </thead>\n",
       "  <tbody>\n",
       "    <tr>\n",
       "      <th>0</th>\n",
       "      <td>Now in Roppongi (*･ω･)ﾉ with Sun-chan and Chie ☆ [USER] [USER]</td>\n",
       "    </tr>\n",
       "    <tr>\n",
       "      <th>1</th>\n",
       "      <td>[ASSISTANT] I was in a bad state from the beginning and relied on Non-chan for everything!! Non-...</td>\n",
       "    </tr>\n",
       "    <tr>\n",
       "      <th>2</th>\n",
       "      <td>[USER], my main yoyos are mostly the Phenom Proto, Genesis +, Loop900, and so on... [URL]</td>\n",
       "    </tr>\n",
       "    <tr>\n",
       "      <th>3</th>\n",
       "      <td>I'm going with my daughter to the Minato Mirai Hall for the \"Musical Instrument Knowledge Concer...</td>\n",
       "    </tr>\n",
       "    <tr>\n",
       "      <th>4</th>\n",
       "      <td>Otsuka is so gross (lol). Always begging for food (&gt;_&lt;). Truly a fatty.</td>\n",
       "    </tr>\n",
       "    <tr>\n",
       "      <th>...</th>\n",
       "      <td>...</td>\n",
       "    </tr>\n",
       "    <tr>\n",
       "      <th>9995</th>\n",
       "      <td>Please tell me your email address! I am Takumi Sakuhō from Kōryō Junior High School! (^^) My ema...</td>\n",
       "    </tr>\n",
       "    <tr>\n",
       "      <th>9996</th>\n",
       "      <td>Did the joke go too far? (￣▽￣;) I'm sorry! If it were actually open, I would have told you prope...</td>\n",
       "    </tr>\n",
       "    <tr>\n",
       "      <th>9997</th>\n",
       "      <td>Fill your stomach and head to Kagoshima. Today is a dining party. I don't want to go straight ho...</td>\n",
       "    </tr>\n",
       "    <tr>\n",
       "      <th>9998</th>\n",
       "      <td>[USER] [USER] [USER], goodnight. &gt;&lt;</td>\n",
       "    </tr>\n",
       "    <tr>\n",
       "      <th>9999</th>\n",
       "      <td>[USER] Long time no see, how have you been? I found you. I cannot let you get away without a gre...</td>\n",
       "    </tr>\n",
       "  </tbody>\n",
       "</table>\n",
       "<p>10000 rows × 1 columns</p>\n",
       "</div>"
      ],
      "text/plain": [
       "                                                                                               translated\n",
       "0                                          Now in Roppongi (*･ω･)ﾉ with Sun-chan and Chie ☆ [USER] [USER]\n",
       "1     [ASSISTANT] I was in a bad state from the beginning and relied on Non-chan for everything!! Non-...\n",
       "2               [USER], my main yoyos are mostly the Phenom Proto, Genesis +, Loop900, and so on... [URL]\n",
       "3     I'm going with my daughter to the Minato Mirai Hall for the \"Musical Instrument Knowledge Concer...\n",
       "4                                 Otsuka is so gross (lol). Always begging for food (>_<). Truly a fatty.\n",
       "...                                                                                                   ...\n",
       "9995  Please tell me your email address! I am Takumi Sakuhō from Kōryō Junior High School! (^^) My ema...\n",
       "9996  Did the joke go too far? (￣▽￣;) I'm sorry! If it were actually open, I would have told you prope...\n",
       "9997  Fill your stomach and head to Kagoshima. Today is a dining party. I don't want to go straight ho...\n",
       "9998                                                                  [USER] [USER] [USER], goodnight. ><\n",
       "9999  [USER] Long time no see, how have you been? I found you. I cannot let you get away without a gre...\n",
       "\n",
       "[10000 rows x 1 columns]"
      ]
     },
     "execution_count": 74,
     "metadata": {},
     "output_type": "execute_result"
    }
   ],
   "source": [
    "df['translated'] = df['translated'].astype(str) \n",
    "print()\n",
    "\n",
    "print(df.dtypes)\n",
    "df\n"
   ]
  },
  {
   "cell_type": "code",
   "execution_count": 75,
   "metadata": {},
   "outputs": [
    {
     "data": {
      "text/html": [
       "<div>\n",
       "<style scoped>\n",
       "    .dataframe tbody tr th:only-of-type {\n",
       "        vertical-align: middle;\n",
       "    }\n",
       "\n",
       "    .dataframe tbody tr th {\n",
       "        vertical-align: top;\n",
       "    }\n",
       "\n",
       "    .dataframe thead th {\n",
       "        text-align: right;\n",
       "    }\n",
       "</style>\n",
       "<table border=\"1\" class=\"dataframe\">\n",
       "  <thead>\n",
       "    <tr style=\"text-align: right;\">\n",
       "      <th></th>\n",
       "      <th>translated</th>\n",
       "      <th>Tweet_punct</th>\n",
       "    </tr>\n",
       "  </thead>\n",
       "  <tbody>\n",
       "    <tr>\n",
       "      <th>0</th>\n",
       "      <td>Now in Roppongi (*･ω･)ﾉ with Sun-chan and Chie ☆ [USER] [USER]</td>\n",
       "      <td>Now in Roppongi ･ω･ﾉ with Sunchan and Chie ☆ USER USER</td>\n",
       "    </tr>\n",
       "    <tr>\n",
       "      <th>1</th>\n",
       "      <td>[ASSISTANT] I was in a bad state from the beginning and relied on Non-chan for everything!! Non-...</td>\n",
       "      <td>ASSISTANT I was in a bad state from the beginning and relied on Nonchan for everything Nonchan I...</td>\n",
       "    </tr>\n",
       "    <tr>\n",
       "      <th>2</th>\n",
       "      <td>[USER], my main yoyos are mostly the Phenom Proto, Genesis +, Loop900, and so on... [URL]</td>\n",
       "      <td>USER my main yoyos are mostly the Phenom Proto Genesis  Loop and so on URL</td>\n",
       "    </tr>\n",
       "    <tr>\n",
       "      <th>3</th>\n",
       "      <td>I'm going with my daughter to the Minato Mirai Hall for the \"Musical Instrument Knowledge Concer...</td>\n",
       "      <td>Im going with my daughter to the Minato Mirai Hall for the Musical Instrument Knowledge Concert ...</td>\n",
       "    </tr>\n",
       "    <tr>\n",
       "      <th>4</th>\n",
       "      <td>Otsuka is so gross (lol). Always begging for food (&gt;_&lt;). Truly a fatty.</td>\n",
       "      <td>Otsuka is so gross lol Always begging for food  Truly a fatty</td>\n",
       "    </tr>\n",
       "    <tr>\n",
       "      <th>5</th>\n",
       "      <td>[ASSISTANT] Returning to the police station from the 10th case. So busy, bye~♪(´ε｀ )</td>\n",
       "      <td>ASSISTANT Returning to the police station from the th case So busy bye♪´ε｀</td>\n",
       "    </tr>\n",
       "    <tr>\n",
       "      <th>6</th>\n",
       "      <td>Are you busy? I couldn't understand today's work...</td>\n",
       "      <td>Are you busy I couldnt understand todays work</td>\n",
       "    </tr>\n",
       "    <tr>\n",
       "      <th>7</th>\n",
       "      <td>[USER] Ohhh! Hello, neighbor♪ ( ´▽｀) Nice to meet you~ ( ´ ▽ ` )ﾉ We might see each other at Yor...</td>\n",
       "      <td>USER Ohhh Hello neighbor♪  ´▽｀ Nice to meet you  ´ ▽  ﾉ We might see each other at York Benimaru...</td>\n",
       "    </tr>\n",
       "    <tr>\n",
       "      <th>8</th>\n",
       "      <td>Today's harvest: I learned that the legendary Treasure Island actually exists, and there was an ...</td>\n",
       "      <td>Todays harvest I learned that the legendary Treasure Island actually exists and there was an arm...</td>\n",
       "    </tr>\n",
       "    <tr>\n",
       "      <th>9</th>\n",
       "      <td>What is the Hallyu wave? Where is it happening? I suddenly thought about it in Shin-Okubo.</td>\n",
       "      <td>What is the Hallyu wave Where is it happening I suddenly thought about it in ShinOkubo</td>\n",
       "    </tr>\n",
       "  </tbody>\n",
       "</table>\n",
       "</div>"
      ],
      "text/plain": [
       "                                                                                            translated   \n",
       "0                                       Now in Roppongi (*･ω･)ﾉ with Sun-chan and Chie ☆ [USER] [USER]  \\\n",
       "1  [ASSISTANT] I was in a bad state from the beginning and relied on Non-chan for everything!! Non-...   \n",
       "2            [USER], my main yoyos are mostly the Phenom Proto, Genesis +, Loop900, and so on... [URL]   \n",
       "3  I'm going with my daughter to the Minato Mirai Hall for the \"Musical Instrument Knowledge Concer...   \n",
       "4                              Otsuka is so gross (lol). Always begging for food (>_<). Truly a fatty.   \n",
       "5                 [ASSISTANT] Returning to the police station from the 10th case. So busy, bye~♪(´ε｀ )   \n",
       "6                                                  Are you busy? I couldn't understand today's work...   \n",
       "7  [USER] Ohhh! Hello, neighbor♪ ( ´▽｀) Nice to meet you~ ( ´ ▽ ` )ﾉ We might see each other at Yor...   \n",
       "8  Today's harvest: I learned that the legendary Treasure Island actually exists, and there was an ...   \n",
       "9           What is the Hallyu wave? Where is it happening? I suddenly thought about it in Shin-Okubo.   \n",
       "\n",
       "                                                                                           Tweet_punct  \n",
       "0                                               Now in Roppongi ･ω･ﾉ with Sunchan and Chie ☆ USER USER  \n",
       "1  ASSISTANT I was in a bad state from the beginning and relied on Nonchan for everything Nonchan I...  \n",
       "2                           USER my main yoyos are mostly the Phenom Proto Genesis  Loop and so on URL  \n",
       "3  Im going with my daughter to the Minato Mirai Hall for the Musical Instrument Knowledge Concert ...  \n",
       "4                                        Otsuka is so gross lol Always begging for food  Truly a fatty  \n",
       "5                          ASSISTANT Returning to the police station from the th case So busy bye♪´ε｀   \n",
       "6                                                        Are you busy I couldnt understand todays work  \n",
       "7  USER Ohhh Hello neighbor♪  ´▽｀ Nice to meet you  ´ ▽  ﾉ We might see each other at York Benimaru...  \n",
       "8  Todays harvest I learned that the legendary Treasure Island actually exists and there was an arm...  \n",
       "9               What is the Hallyu wave Where is it happening I suddenly thought about it in ShinOkubo  "
      ]
     },
     "execution_count": 75,
     "metadata": {},
     "output_type": "execute_result"
    }
   ],
   "source": [
    "def remove_punct(text):\n",
    "    text  = \"\".join([char for char in text if char not in string.punctuation])\n",
    "    text = re.sub('[0-9]+', '', text)\n",
    "    return text\n",
    "\n",
    "df['Tweet_punct'] = df['translated'].apply(lambda x: remove_punct(x))\n",
    "df.head(10)"
   ]
  },
  {
   "cell_type": "code",
   "execution_count": null,
   "metadata": {},
   "outputs": [],
   "source": []
  }
 ],
 "metadata": {
  "kernelspec": {
   "display_name": "base",
   "language": "python",
   "name": "python3"
  },
  "language_info": {
   "codemirror_mode": {
    "name": "ipython",
    "version": 3
   },
   "file_extension": ".py",
   "mimetype": "text/x-python",
   "name": "python",
   "nbconvert_exporter": "python",
   "pygments_lexer": "ipython3",
   "version": "3.9.7"
  }
 },
 "nbformat": 4,
 "nbformat_minor": 2
}
